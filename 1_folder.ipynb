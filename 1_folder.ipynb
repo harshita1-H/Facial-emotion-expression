{
 "cells": [
  {
   "cell_type": "code",
   "execution_count": 1,
   "id": "6baaad3c-c832-4a40-947a-f6b1ec8ff695",
   "metadata": {},
   "outputs": [
    {
     "name": "stdout",
     "output_type": "stream",
     "text": [
      "Images have been organized into train and test folders.\n"
     ]
    }
   ],
   "source": [
    "import os\n",
    "import shutil  #perform high-level file operations, like copying files.\n",
    "from sklearn.model_selection import train_test_split #split the data into training and test sets.\n",
    "import pandas as pd\n",
    "\n",
    "# Load the CSV file\n",
    "csv_path = 'legend.csv'  # Update with the correct path if needed\n",
    "data = pd.read_csv(csv_path)\n",
    "\n",
    "# Specify the source directory where images are stored\n",
    "source_dir = 'images/'  # Update this to the folder where the images are located\n",
    "\n",
    "# Create destination directories for train and test datasets\n",
    "base_dir = 'data_split'\n",
    "train_dir = os.path.join(base_dir, 'train')\n",
    "test_dir = os.path.join(base_dir, 'test')\n",
    "\n",
    "# Create subfolders for each emotion in train and test directories\n",
    "emotions = data['emotion'].unique()\n",
    "for emotion in emotions:\n",
    "    os.makedirs(os.path.join(train_dir, emotion), exist_ok=True)\n",
    "    os.makedirs(os.path.join(test_dir, emotion), exist_ok=True)\n",
    "\n",
    "# Split data into train and test sets (80% train, 20% test)\n",
    "train_data, test_data = train_test_split(data, test_size=0.2, stratify=data['emotion'], random_state=42)\n",
    "\n",
    "# Function to move images to respective folders\n",
    "def move_images(dataframe, destination_dir):\n",
    "    for _, row in dataframe.iterrows():\n",
    "        image_name = row['image']\n",
    "        emotion = row['emotion']\n",
    "        src_path = os.path.join(source_dir, image_name)\n",
    "        dest_path = os.path.join(destination_dir, emotion, image_name)\n",
    "\n",
    "        if os.path.exists(src_path):  # Check if the image exists\n",
    "            shutil.copy(src_path, dest_path)\n",
    "        else:\n",
    "            print(f\"Image {image_name} not found in {source_dir}.\")\n",
    "\n",
    "# Move images to train and test directories\n",
    "move_images(train_data, train_dir)\n",
    "move_images(test_data, test_dir)\n",
    "\n",
    "print(\"Images have been organized into train and test folders.\")\n"
   ]
  },
  {
   "cell_type": "code",
   "execution_count": 3,
   "id": "74812ff5-6085-4e95-803f-e3e26c813f5e",
   "metadata": {},
   "outputs": [
    {
     "name": "stdout",
     "output_type": "stream",
     "text": [
      "Found 10947 images belonging to 8 classes.\n",
      "Found 2738 images belonging to 8 classes.\n"
     ]
    }
   ],
   "source": [
    "from tensorflow.keras.preprocessing.image import ImageDataGenerator\n",
    "\n",
    "# Directories\n",
    "train_dir = 'data_split/train'\n",
    "test_dir = 'data_split/test'\n",
    "\n",
    "# Image size and batch settings\n",
    "img_size = (224, 224)\n",
    "batch_size = 32\n",
    "\n",
    "# Data generators with preprocessing and augmentation\n",
    "train_datagen = ImageDataGenerator(\n",
    "    rescale=1./255,             # Normalize pixel values\n",
    "    rotation_range=20,          # Data augmentation\n",
    "    width_shift_range=0.2,\n",
    "    height_shift_range=0.2,\n",
    "    horizontal_flip=True\n",
    ")\n",
    "test_datagen = ImageDataGenerator(rescale=1./255)\n",
    "\n",
    "# Load images from folders\n",
    "train_generator = train_datagen.flow_from_directory(\n",
    "    train_dir,\n",
    "    target_size=img_size,\n",
    "    batch_size=batch_size,\n",
    "    class_mode='categorical'   # For multi-class classification\n",
    ")\n",
    "test_generator = test_datagen.flow_from_directory(\n",
    "    test_dir,\n",
    "    target_size=img_size,\n",
    "    batch_size=batch_size,\n",
    "    class_mode='categorical'\n",
    ")\n"
   ]
  },
  {
   "cell_type": "code",
   "execution_count": null,
   "id": "b81c1975-31fb-4c42-8f82-262aa93cb1b4",
   "metadata": {},
   "outputs": [],
   "source": []
  }
 ],
 "metadata": {
  "kernelspec": {
   "display_name": "Python 3 (ipykernel)",
   "language": "python",
   "name": "python3"
  },
  "language_info": {
   "codemirror_mode": {
    "name": "ipython",
    "version": 3
   },
   "file_extension": ".py",
   "mimetype": "text/x-python",
   "name": "python",
   "nbconvert_exporter": "python",
   "pygments_lexer": "ipython3",
   "version": "3.12.6"
  }
 },
 "nbformat": 4,
 "nbformat_minor": 5
}
